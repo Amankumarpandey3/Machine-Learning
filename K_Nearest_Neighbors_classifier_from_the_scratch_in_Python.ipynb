{
  "nbformat": 4,
  "nbformat_minor": 0,
  "metadata": {
    "colab": {
      "provenance": [],
      "authorship_tag": "ABX9TyPf4Ory1aM3nKUFlBVv3EDE",
      "include_colab_link": true
    },
    "kernelspec": {
      "name": "python3",
      "display_name": "Python 3"
    },
    "language_info": {
      "name": "python"
    }
  },
  "cells": [
    {
      "cell_type": "markdown",
      "metadata": {
        "id": "view-in-github",
        "colab_type": "text"
      },
      "source": [
        "<a href=\"https://colab.research.google.com/github/Amankumarpandey3/Machine-Learning/blob/main/K_Nearest_Neighbors_classifier_from_the_scratch_in_Python.ipynb\" target=\"_parent\"><img src=\"https://colab.research.google.com/assets/colab-badge.svg\" alt=\"Open In Colab\"/></a>"
      ]
    },
    {
      "cell_type": "code",
      "execution_count": 1,
      "metadata": {
        "id": "XAAX0BuleUgT"
      },
      "outputs": [],
      "source": [
        "import numpy as np\n",
        "import statistics as st"
      ]
    },
    {
      "cell_type": "code",
      "source": [
        "class KNN_classifier:\n",
        "    def __init__(self,distance_metric):\n",
        "        self.get_distance_metrc=distance_metric\n",
        "    def get_distance_metric(self,training_data_point,test_data_point):\n",
        "      if(self.distance_metric=='euclidean'):\n",
        "        dist=0\n",
        "        for i in range(len(training_data_point)-1):\n",
        "          dist=dist+(training_data_point[i]-test_data_point[i])**2\n",
        "        euclidean_dist=np.sqrt(dist)\n",
        "        return euclidean_dist\n",
        "      elif(self.distance_metric=='manhattan'):\n",
        "        dist=0\n",
        "        for i in range(len(training_data_point)-1):\n",
        "          dist=dist+abs(training_data_point[i]-test_data_point[i])\n",
        "        manhattan_dist=dist\n",
        "        return manhattan_dist\n",
        "    def nearest_neighbors(selftraining_data,test_data,k):\n",
        "      distance_list=[]\n",
        "      for training_data in x_train:\n",
        "        distance=self.get_distance_,etrc(training_data,test_data)\n",
        "        distance_list.append(training_data,distance)\n",
        "      distance_list.sort(key=lambda x:x[1])\n",
        "      neighbors_list=[]\n",
        "      for j in range(k):\n",
        "        neighbors_list.append(distance_list[j][0])\n",
        "      return neighbors_list\n",
        "    def predict(self,x_train,test_data,k):\n",
        "      neighbors=self.nearest_neighbors(x_train,test_data,k)\n",
        "      for data in neighbors:\n",
        "        label=[]\n",
        "        label.append(data[-1])\n",
        "        predicted_class=statistics.mode(label)\n",
        "        return predicted_class\n",
        ""
      ],
      "metadata": {
        "id": "bpbOJw9AejRU"
      },
      "execution_count": 2,
      "outputs": []
    },
    {
      "cell_type": "code",
      "source": [],
      "metadata": {
        "id": "H4A8K2avhhu4"
      },
      "execution_count": null,
      "outputs": []
    }
  ]
}