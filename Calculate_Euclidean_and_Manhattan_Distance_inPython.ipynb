{
  "nbformat": 4,
  "nbformat_minor": 0,
  "metadata": {
    "colab": {
      "provenance": [],
      "authorship_tag": "ABX9TyP79jleA/CY6bvKCrOVZUDp",
      "include_colab_link": true
    },
    "kernelspec": {
      "name": "python3",
      "display_name": "Python 3"
    },
    "language_info": {
      "name": "python"
    }
  },
  "cells": [
    {
      "cell_type": "markdown",
      "metadata": {
        "id": "view-in-github",
        "colab_type": "text"
      },
      "source": [
        "<a href=\"https://colab.research.google.com/github/Amankumarpandey3/Machine-Learning/blob/main/Calculate_Euclidean_and_Manhattan_Distance_inPython.ipynb\" target=\"_parent\"><img src=\"https://colab.research.google.com/assets/colab-badge.svg\" alt=\"Open In Colab\"/></a>"
      ]
    },
    {
      "cell_type": "markdown",
      "source": [
        "# calculating the Euclidean Distance"
      ],
      "metadata": {
        "id": "1kd25FiJP-Kj"
      }
    },
    {
      "cell_type": "code",
      "source": [
        "import numpy as np"
      ],
      "metadata": {
        "id": "as03Tr3YYX-q"
      },
      "execution_count": 6,
      "outputs": []
    },
    {
      "cell_type": "code",
      "execution_count": 1,
      "metadata": {
        "id": "nFgz5NhLPxre"
      },
      "outputs": [],
      "source": [
        "p1=(1,1)\n",
        "p2=(2,2)"
      ]
    },
    {
      "cell_type": "code",
      "source": [
        "#calculating the euclidean distance\n",
        "euclidean_distance=(((p1[0]-p2[0])**2)+((p1[1]-p2[1])**2))**0.5"
      ],
      "metadata": {
        "id": "ViQcYgu6QOSw"
      },
      "execution_count": 2,
      "outputs": []
    },
    {
      "cell_type": "code",
      "source": [
        "euclidean_distance"
      ],
      "metadata": {
        "colab": {
          "base_uri": "https://localhost:8080/"
        },
        "id": "yvGMTGxBQcVb",
        "outputId": "b007a70a-4cbe-4c3a-b3b2-dddaa1f91cc2"
      },
      "execution_count": 3,
      "outputs": [
        {
          "output_type": "execute_result",
          "data": {
            "text/plain": [
              "1.4142135623730951"
            ]
          },
          "metadata": {},
          "execution_count": 3
        }
      ]
    },
    {
      "cell_type": "markdown",
      "source": [
        "For Three Dimension\n"
      ],
      "metadata": {
        "id": "EgYBKjGfQp3k"
      }
    },
    {
      "cell_type": "code",
      "source": [
        "p1=(1,1,2)\n",
        "p2=(2,2,2)"
      ],
      "metadata": {
        "id": "pYQ3u4vKQe97"
      },
      "execution_count": 4,
      "outputs": []
    },
    {
      "cell_type": "code",
      "source": [
        "distance=((p1[0]-p2[0])**2+(p1[1]-p2[1])**2+(p1[2]-p2[2])**2)**0.5\n",
        "distance"
      ],
      "metadata": {
        "colab": {
          "base_uri": "https://localhost:8080/"
        },
        "id": "xXcOUjrCQ-J_",
        "outputId": "c50c0769-76db-4f75-a64a-ccb14a032156"
      },
      "execution_count": 5,
      "outputs": [
        {
          "output_type": "execute_result",
          "data": {
            "text/plain": [
              "1.4142135623730951"
            ]
          },
          "metadata": {},
          "execution_count": 5
        }
      ]
    },
    {
      "cell_type": "code",
      "source": [
        "def get_euclidean_distance(p1,p2):\n",
        "  dist=0\n",
        "  for i in range(len(p1)):\n",
        "    dist=dist+(p1[i]-p2[i])**2\n",
        "  euclidean_dist=np.sqrt(dist)\n",
        "  print(euclidean_dist)"
      ],
      "metadata": {
        "id": "ftAIFk35a3S3"
      },
      "execution_count": 17,
      "outputs": []
    },
    {
      "cell_type": "code",
      "source": [
        "def get_manhattan_distance(p1,p2):\n",
        "  dist=0\n",
        "  for i in range(len(p1)):\n",
        "    dist=dist+abs(p1[i]-p2[i])\n",
        "  print(dist)"
      ],
      "metadata": {
        "id": "FWmzeOwbRY6N"
      },
      "execution_count": 12,
      "outputs": []
    },
    {
      "cell_type": "code",
      "source": [
        "get_manhattan_distance((1,1,1,1),(2,2,2,2))"
      ],
      "metadata": {
        "colab": {
          "base_uri": "https://localhost:8080/"
        },
        "id": "mJPdZakQYiEv",
        "outputId": "a4ad1b65-b1b3-499b-ab98-0ecb85c4275d"
      },
      "execution_count": 9,
      "outputs": [
        {
          "output_type": "stream",
          "name": "stdout",
          "text": [
            "2.0\n"
          ]
        }
      ]
    },
    {
      "cell_type": "markdown",
      "source": [
        "Distance between two dissimilar data points"
      ],
      "metadata": {
        "id": "ZmHAWYQ5aLrv"
      }
    },
    {
      "cell_type": "code",
      "source": [
        "print(get_euclidean_distance((70,1,4,130,322,0,2,109,0,2.4,2,3,3),(67,0,3,115,564,0,2,160,0,1.6,2,0,7)))\n",
        "print(get_manhattan_distance((70,1,4,130,322,0,2,109,0,2.4,2,3,3),(67,0,3,115,564,0,2,160,0,1.6,2,0,7)))"
      ],
      "metadata": {
        "colab": {
          "base_uri": "https://localhost:8080/"
        },
        "id": "LdHl3puqY-3d",
        "outputId": "ec602c17-c588-4e9e-d1c5-92aa47b714e0"
      },
      "execution_count": 18,
      "outputs": [
        {
          "output_type": "stream",
          "name": "stdout",
          "text": [
            "247.84398318296937\n",
            "None\n",
            "320.8\n",
            "None\n"
          ]
        }
      ]
    },
    {
      "cell_type": "code",
      "source": [],
      "metadata": {
        "id": "iFnCntgbcTJG"
      },
      "execution_count": null,
      "outputs": []
    }
  ]
}